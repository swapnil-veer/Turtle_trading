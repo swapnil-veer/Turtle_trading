{
 "cells": [
  {
   "cell_type": "code",
   "execution_count": 1,
   "id": "80b0ec80-2f34-4961-8951-f83c9f77479c",
   "metadata": {},
   "outputs": [],
   "source": [
    "import pandas as pd \n",
    "import numpy as np\n",
    "# !pip install xlsxwriter\n",
    "import yfinance as yf \n",
    "import xlsxwriter\n",
    "# !pip install openpyxl\n",
    "import openpyxl\n",
    "# !pip install mplfinance \n",
    "import mplfinance as mpf\n"
   ]
  },
  {
   "cell_type": "code",
   "execution_count": 17,
   "id": "4d86a6a5-68ca-42b3-a4ce-e58b14be817c",
   "metadata": {},
   "outputs": [],
   "source": [
    "class TurtleTrading:\n",
    "    def __init__(self, ticker, period = \"1mo\", nse = True, round = 2):\n",
    "        \"\"\"['1d', '5d', '1mo', '3mo', '6mo', '1y', '2y', '5y', '10y', 'ytd', 'max']\"\"\"\n",
    "        if nse == True:\n",
    "            stock_exchange = \".NS\"\n",
    "        else:\n",
    "            stock_exchange = \"\"    \n",
    "        self.ticker = ticker  \n",
    "        self.mod_ticker = ticker + stock_exchange\n",
    "        self.period = period\n",
    "        self.round = round\n",
    "\n",
    "    def fetch_data(self):\n",
    "        try:\n",
    "            self.data = yf.download(self.mod_ticker, period = self.period)\n",
    "        except KeyError:\n",
    "            print(f\"Data for {self.ticker} not available or invalid.\")\n",
    "            \n",
    "        self.data[['Open','High','Low','Close','Adj Close']] = self.data[['Open','High','Low','Close','Adj Close']].round(self.round)\n",
    "        return self.data\n",
    "    \n",
    "    def calculate_indicators(self):\n",
    "        if self.data is not None:\n",
    "            self.data['55d_High'] = self.data['High'].rolling(window=55).max()\n",
    "            self.data['55d_Low'] = self.data['Low'].rolling(window=55).min()\n",
    "            self.data['High-Low'] = self.data['High']-self.data['Low']\n",
    "            self.data['High-PrevClose'] = (self.data['High'] - self.data['Close'].shift(1)).abs()\n",
    "            self.data['PrevClose-Low'] = (self.data['Close'].shift(1) - self.data['Low']).abs()\n",
    "            self.data['True_Range'] = self.data[['High-Low', 'High-PrevClose', 'PrevClose-Low']].max(axis = 1)\n",
    "            self.data['Avg_True_Range(N)'] = self.data['True_Range'].rolling(window = 20).mean().round(2)\n",
    "            return self.data\n",
    "        else:\n",
    "            return (\"No data to calculate indicators.\")\n",
    "    \n",
    "    def generate_signals(self):\n",
    "        if self.data is not None:\n",
    "            self.data['Buy_Signal'] = self.data['Close'] > self.data['55d_High'].shift(1)\n",
    "            self.data['Sell_Signal'] = self.data['Close'] < self.data['55d_Low'].shift(1)\n",
    "            return self.data\n",
    "            # buy_sell_signals = self.data[(self.data['Buy_Signal']) | (self.data['Sell_Signal'])]\n",
    "            # return buy_sell_signals\n",
    "        else:\n",
    "            return (\"No data to generate signal.\") \n",
    "           \n",
    "    def check_buy_signal(self, days = 1):\n",
    "        if self.data is not None and 'Buy_Signal' in self.data.columns:\n",
    "            return self.data['Buy_Signal'].tail(days).any()\n",
    "        else:\n",
    "            print(\"No data or Buy_Signal column not found.\")\n",
    "            return False\n",
    "        \n",
    "    def save_to_excel(self, filename = \"default.xlsx\"):\n",
    "        if self.data is not None:\n",
    "            self.filename = filename\n",
    "            \n",
    "            try:\n",
    "                # Load the existing workbook, if it exists\n",
    "                workbook = openpyxl.load_workbook(self.filename)\n",
    "            except FileNotFoundError:\n",
    "                # If the file does not exist, create a new workbook\n",
    "                workbook = openpyxl.Workbook()\n",
    "                # workbook.remove(workbook.active)\n",
    "                workbook.save(filename=self.filename)\n",
    "\n",
    "            with pd.ExcelWriter(filename, engine='openpyxl', mode='a', if_sheet_exists='replace') as writer:\n",
    "                self.data.to_excel(writer, sheet_name = self.ticker, index = True)\n",
    "\n",
    "                # Access the workbook and worksheet objects\n",
    "                workbook  = writer.book\n",
    "                worksheet = writer.sheets[self.ticker]\n",
    "\n",
    "\n",
    "                # Define formats for conditional formatting\n",
    "                # green_fill = workbook.add_format({'bg_color': '#C6EFCE', 'font_color': '#006100'})\n",
    "                # red_fill = workbook.add_format({'bg_color': '#FFC7CE', 'font_color': '#9C0006'})\n",
    "\n",
    "                green_fill = openpyxl.styles.PatternFill(start_color='C6EFCE', end_color='C6EFCE', fill_type='solid')\n",
    "                red_fill = openpyxl.styles.PatternFill(start_color='FFC7CE', end_color='FFC7CE', fill_type='solid')\n",
    "\n",
    "                # Apply conditional formatting to Buy_Signal and Sell_Signal columns\n",
    "                buy_signal_col = self.data.columns.get_loc('Buy_Signal') + 1\n",
    "                sell_signal_col = self.data.columns.get_loc('Sell_Signal') + 1\n",
    "                # worksheet.conditional_format(1, buy_signal_col, len(self.data), buy_signal_col, \n",
    "                #                              {'type': 'cell', 'criteria': '==', 'value': \"TRUE\", 'format': green_fill})\n",
    "                # worksheet.conditional_format(1, sell_signal_col, len(self.data), sell_signal_col, \n",
    "                #                              {'type': 'cell', 'criteria': '==', 'value': \"TRUE\", 'format': red_fill})\n",
    "                \n",
    "                for row in range(2, len(self.data) + 2):\n",
    "                    if worksheet.cell(row, buy_signal_col + 1).value:  # Check if Buy_Signal is True\n",
    "                        for cell in worksheet[row]:\n",
    "                            cell.fill = green_fill\n",
    "                    if worksheet.cell(row, sell_signal_col + 1).value:  # Check if Sell_Signal is True\n",
    "                        for cell in worksheet[row]:\n",
    "                            cell.fill = red_fill\n",
    "\n",
    "                \n",
    "                # Freeze first row and first column\n",
    "                worksheet.freeze_panes = 'B2'  # Freeze the first row and first column\n",
    "                \n",
    "            print(f\"{self.ticker} Data saved to {filename}\")\n",
    "        else:\n",
    "            print(\"No Data to print\")\n",
    "\n",
    "    def plot_candle_stick(self):\n",
    "        mpf.plot(self.data, type='candle', volume=False, style='charles', title='Candlestick Chart', ylabel='Price')\n"
   ]
  },
  {
   "cell_type": "code",
   "execution_count": 3,
   "id": "a86abc5c-8acc-46e2-8b4e-12f315706b2a",
   "metadata": {},
   "outputs": [
    {
     "name": "stderr",
     "output_type": "stream",
     "text": [
      "[*********************100%%**********************]  1 of 1 completed\n"
     ]
    },
    {
     "data": {
      "image/png": "[encoded data removed]",
      "text/plain": [
       "<Figure size 800x575 with 2 Axes>"
      ]
     },
     "metadata": {},
     "output_type": "display_data"
    }
   ],
   "source": [
    "infy = TurtleTrading(\"JYOTHYLAB\", period = \"1y\")\n",
    "infy.fetch_data()\n",
    "infy.calculate_indicators()\n",
    "infy.generate_signals()\n",
    "infy.check_buy_signal()\n",
    "# infy.save_to_excel()\n",
    "# print(infy_data.tail())\n",
    "# print(infy_data.info())\n",
    "infy.plot_candle_stick()"
   ]
  },
  {
   "cell_type": "code",
   "execution_count": 18,
   "id": "22ddf299",
   "metadata": {},
   "outputs": [
    {
     "name": "stderr",
     "output_type": "stream",
     "text": [
      "[*********************100%%**********************]  1 of 1 completed\n",
      "[*********************100%%**********************]  1 of 1 completed\n",
      "[*********************100%%**********************]  1 of 1 completed\n",
      "[*********************100%%**********************]  1 of 1 completed\n",
      "[*********************100%%**********************]  1 of 1 completed\n",
      "[*********************100%%**********************]  1 of 1 completed\n",
      "[*********************100%%**********************]  1 of 1 completed\n",
      "[*********************100%%**********************]  1 of 1 completed\n",
      "[*********************100%%**********************]  1 of 1 completed\n",
      "[*********************100%%**********************]  1 of 1 completed\n",
      "[*********************100%%**********************]  1 of 1 completed\n"
     ]
    },
    {
     "name": "stdout",
     "output_type": "stream",
     "text": [
      "MOTILALOFS Data saved to 123.xlsx\n"
     ]
    },
    {
     "name": "stderr",
     "output_type": "stream",
     "text": [
      "[*********************100%%**********************]  1 of 1 completed\n",
      "[*********************100%%**********************]  1 of 1 completed\n",
      "[*********************100%%**********************]  1 of 1 completed\n",
      "[*********************100%%**********************]  1 of 1 completed\n",
      "[*********************100%%**********************]  1 of 1 completed\n",
      "[*********************100%%**********************]  1 of 1 completed\n",
      "[*********************100%%**********************]  1 of 1 completed\n",
      "[*********************100%%**********************]  1 of 1 completed\n",
      "[*********************100%%**********************]  1 of 1 completed\n",
      "[*********************100%%**********************]  1 of 1 completed\n",
      "[*********************100%%**********************]  1 of 1 completed\n",
      "[*********************100%%**********************]  1 of 1 completed\n",
      "[*********************100%%**********************]  1 of 1 completed\n",
      "[*********************100%%**********************]  1 of 1 completed\n",
      "[*********************100%%**********************]  1 of 1 completed\n",
      "[*********************100%%**********************]  1 of 1 completed\n",
      "[*********************100%%**********************]  1 of 1 completed\n",
      "[*********************100%%**********************]  1 of 1 completed\n",
      "[*********************100%%**********************]  1 of 1 completed\n",
      "[*********************100%%**********************]  1 of 1 completed\n",
      "[*********************100%%**********************]  1 of 1 completed\n",
      "[*********************100%%**********************]  1 of 1 completed\n",
      "[*********************100%%**********************]  1 of 1 completed\n",
      "[*********************100%%**********************]  1 of 1 completed\n",
      "[*********************100%%**********************]  1 of 1 completed\n",
      "[*********************100%%**********************]  1 of 1 completed\n",
      "[*********************100%%**********************]  1 of 1 completed\n",
      "[*********************100%%**********************]  1 of 1 completed\n",
      "[*********************100%%**********************]  1 of 1 completed\n",
      "[*********************100%%**********************]  1 of 1 completed\n",
      "[*********************100%%**********************]  1 of 1 completed\n",
      "[*********************100%%**********************]  1 of 1 completed\n",
      "[*********************100%%**********************]  1 of 1 completed\n",
      "[*********************100%%**********************]  1 of 1 completed\n",
      "[*********************100%%**********************]  1 of 1 completed\n",
      "[*********************100%%**********************]  1 of 1 completed\n",
      "[*********************100%%**********************]  1 of 1 completed\n",
      "[*********************100%%**********************]  1 of 1 completed\n",
      "[*********************100%%**********************]  1 of 1 completed"
     ]
    },
    {
     "name": "stdout",
     "output_type": "stream",
     "text": [
      "['MOTILALOFS']\n"
     ]
    },
    {
     "name": "stderr",
     "output_type": "stream",
     "text": [
      "\n"
     ]
    }
   ],
   "source": [
    "def process_tickers(tickers, days=1, period = \"1y\", filename=\"123.xlsx\"):\n",
    "    selective_sticker = []\n",
    "    for ticker in tickers[50:100]:\n",
    "        tt = TurtleTrading(ticker, period= period)\n",
    "        tt.fetch_data()\n",
    "        tt.calculate_indicators()\n",
    "        data = tt.generate_signals()\n",
    "        if tt.check_buy_signal(days):\n",
    "            tt.save_to_excel(filename)\n",
    "            selective_sticker.append(ticker)\n",
    "    print(selective_sticker)\n",
    "\n",
    "from nifty_50_tickers import nifty_500\n",
    "process_tickers(nifty_500, days=1)"
   ]
  },
  {
   "cell_type": "code",
   "execution_count": null,
   "id": "d587745b",
   "metadata": {},
   "outputs": [],
   "source": [
    "# def multi_thread(ticker, days=1, period = \"6mo\", filename=\"default5.xlsx\"):\n",
    "#     tt = TurtleTrading(ticker, period= period)\n",
    "#     tt.fetch_data()\n",
    "#     tt.calculate_indicators()\n",
    "#     tt.generate_signals()\n",
    "#     if tt.check_buy_signal(days):\n",
    "#         tt.save_to_excel(filename)\n",
    "#         # selective_sticker.append(ticker)\n",
    "\n",
    "def multi_thread(ticker, days=1, period=\"1y\", filename=\"default8.xlsx\"):\n",
    "    tt = TurtleTrading(ticker, period=period)\n",
    "    try:\n",
    "        tt.fetch_data()\n",
    "        tt.calculate_indicators()\n",
    "        data = tt.generate_signals()\n",
    "        if tt.check_buy_signal(days):\n",
    "            tt.save_to_excel(filename)\n",
    "    except KeyError:\n",
    "        print(f\"Data for {ticker} not available or invalid.\")\n",
    "    except Exception as e:\n",
    "        print(f\"An error occurred with {ticker}: {e}\")\n",
    "import threading\n",
    "import time\n",
    "\n",
    "threads = []\n",
    "i = 1\n",
    "for ticker in nifty_500[:100]:\n",
    "    thread_name = \"thread\" + str(i)\n",
    "    i += 1\n",
    "    # print(thread_name)\n",
    "    thread = threading.Thread(target=multi_thread, args= (ticker,), name= thread_name)\n",
    "    threads.append(thread)\n",
    "    time.sleep(0.01)\n",
    "    thread.start()\n",
    "    if i % 2 == 0:\n",
    "        thread.join()   \n",
    "# thread.join()\n",
    "# print(\"pass\")\n",
    "\n",
    "# for thread in threads:\n",
    "#     thread.join()\n",
    "print(\"done\")\n",
    "# An error occurred with JYOTHYLAB: 'TurtleTrading' object has no attribute 'data'\n"
   ]
  },
  {
   "cell_type": "code",
   "execution_count": 6,
   "id": "e6b5bf78",
   "metadata": {},
   "outputs": [],
   "source": [
    "sel_stick = ['JAIBALAJI', 'SBILIFE', 'QUESS', 'ICICIGI', 'BBTC', 'ERIS', 'HDFCLIFE', 'ICICIPRULI', 'JMFINANCIL', 'PNBHOUSING', 'JINDALSAW', 'OFSS', 'BAJAJFINSV', 'GODREJIND', 'BAJAJHLDNG', 'MANYAVAR', 'POLYMED', 'SBICARD', 'HFCL', 'JKCEMENT', 'SHRIRAMFIN', 'CHOLAFIN', 'KALYANKJIL', 'PERSISTENT', 'M&MFIN']\n"
   ]
  },
  {
   "cell_type": "code",
   "execution_count": 7,
   "id": "4f23966b",
   "metadata": {},
   "outputs": [
    {
     "name": "stderr",
     "output_type": "stream",
     "text": [
      "[*********************100%%**********************]  1 of 1 completed\n"
     ]
    },
    {
     "name": "stderr",
     "output_type": "stream",
     "text": [
      "[*********************100%%**********************]  1 of 1 completed\n"
     ]
    },
    {
     "name": "stdout",
     "output_type": "stream",
     "text": [
      "Data for SOBHA not available or invalid.\n",
      "An error occurred with SOBHA: 'TurtleTrading' object has no attribute 'data'\n"
     ]
    },
    {
     "name": "stdout",
     "output_type": "stream",
     "text": [
      "Data for JAIBALAJI not available or invalid.\n"
     ]
    },
    {
     "ename": "AttributeError",
     "evalue": "'TurtleTrading' object has no attribute 'data'",
     "output_type": "error",
     "traceback": [
      "\u001b[1;31m---------------------------------------------------------------------------\u001b[0m",
      "\u001b[1;31mAttributeError\u001b[0m                            Traceback (most recent call last)",
      "Cell \u001b[1;32mIn[7], line 3\u001b[0m\n\u001b[0;32m      1\u001b[0m \u001b[38;5;28;01mfor\u001b[39;00m stk \u001b[38;5;129;01min\u001b[39;00m sel_stick[:\u001b[38;5;241m10\u001b[39m]:\n\u001b[0;32m      2\u001b[0m     tt \u001b[38;5;241m=\u001b[39m TurtleTrading(stk, period \u001b[38;5;241m=\u001b[39m \u001b[38;5;124m\"\u001b[39m\u001b[38;5;124m1y\u001b[39m\u001b[38;5;124m\"\u001b[39m)\n\u001b[1;32m----> 3\u001b[0m     \u001b[43mtt\u001b[49m\u001b[38;5;241;43m.\u001b[39;49m\u001b[43mfetch_data\u001b[49m\u001b[43m(\u001b[49m\u001b[43m)\u001b[49m\n\u001b[0;32m      4\u001b[0m     tt\u001b[38;5;241m.\u001b[39mcalculate_indicators()\n\u001b[0;32m      5\u001b[0m     tt\u001b[38;5;241m.\u001b[39mgenerate_signals()\n",
      "Cell \u001b[1;32mIn[2], line 19\u001b[0m, in \u001b[0;36mTurtleTrading.fetch_data\u001b[1;34m(self)\u001b[0m\n\u001b[0;32m     16\u001b[0m \u001b[38;5;28;01mexcept\u001b[39;00m \u001b[38;5;167;01mKeyError\u001b[39;00m:\n\u001b[0;32m     17\u001b[0m     \u001b[38;5;28mprint\u001b[39m(\u001b[38;5;124mf\u001b[39m\u001b[38;5;124m\"\u001b[39m\u001b[38;5;124mData for \u001b[39m\u001b[38;5;132;01m{\u001b[39;00m\u001b[38;5;28mself\u001b[39m\u001b[38;5;241m.\u001b[39mticker\u001b[38;5;132;01m}\u001b[39;00m\u001b[38;5;124m not available or invalid.\u001b[39m\u001b[38;5;124m\"\u001b[39m)\n\u001b[1;32m---> 19\u001b[0m \u001b[38;5;28mself\u001b[39m\u001b[38;5;241m.\u001b[39mdata[[\u001b[38;5;124m'\u001b[39m\u001b[38;5;124mOpen\u001b[39m\u001b[38;5;124m'\u001b[39m,\u001b[38;5;124m'\u001b[39m\u001b[38;5;124mHigh\u001b[39m\u001b[38;5;124m'\u001b[39m,\u001b[38;5;124m'\u001b[39m\u001b[38;5;124mLow\u001b[39m\u001b[38;5;124m'\u001b[39m,\u001b[38;5;124m'\u001b[39m\u001b[38;5;124mClose\u001b[39m\u001b[38;5;124m'\u001b[39m,\u001b[38;5;124m'\u001b[39m\u001b[38;5;124mAdj Close\u001b[39m\u001b[38;5;124m'\u001b[39m]] \u001b[38;5;241m=\u001b[39m \u001b[38;5;28;43mself\u001b[39;49m\u001b[38;5;241;43m.\u001b[39;49m\u001b[43mdata\u001b[49m[[\u001b[38;5;124m'\u001b[39m\u001b[38;5;124mOpen\u001b[39m\u001b[38;5;124m'\u001b[39m,\u001b[38;5;124m'\u001b[39m\u001b[38;5;124mHigh\u001b[39m\u001b[38;5;124m'\u001b[39m,\u001b[38;5;124m'\u001b[39m\u001b[38;5;124mLow\u001b[39m\u001b[38;5;124m'\u001b[39m,\u001b[38;5;124m'\u001b[39m\u001b[38;5;124mClose\u001b[39m\u001b[38;5;124m'\u001b[39m,\u001b[38;5;124m'\u001b[39m\u001b[38;5;124mAdj Close\u001b[39m\u001b[38;5;124m'\u001b[39m]]\u001b[38;5;241m.\u001b[39mround(\u001b[38;5;28mself\u001b[39m\u001b[38;5;241m.\u001b[39mround)\n\u001b[0;32m     20\u001b[0m \u001b[38;5;28;01mreturn\u001b[39;00m \u001b[38;5;28mself\u001b[39m\u001b[38;5;241m.\u001b[39mdata\n",
      "\u001b[1;31mAttributeError\u001b[0m: 'TurtleTrading' object has no attribute 'data'"
     ]
    }
   ],
   "source": [
    "for stk in sel_stick[:10]:\n",
    "    tt = TurtleTrading(stk, period = \"1y\")\n",
    "    tt.fetch_data()\n",
    "    tt.calculate_indicators()\n",
    "    tt.generate_signals()\n",
    "    tt.check_buy_signal()\n",
    "    tt.plot_candle_stick()\n",
    "    "
   ]
  },
  {
   "cell_type": "code",
   "execution_count": null,
   "id": "423c2361",
   "metadata": {},
   "outputs": [],
   "source": []
  }
 ],
 "metadata": {
  "kernelspec": {
   "display_name": "Python 3",
   "language": "python",
   "name": "python3"
  },
  "language_info": {
   "codemirror_mode": {
    "name": "ipython",
    "version": 3
   },
   "file_extension": ".py",
   "mimetype": "text/x-python",
   "name": "python",
   "nbconvert_exporter": "python",
   "pygments_lexer": "ipython3",
   "version": "3.12.2"
  }
 },
 "nbformat": 4,
 "nbformat_minor": 5
}
