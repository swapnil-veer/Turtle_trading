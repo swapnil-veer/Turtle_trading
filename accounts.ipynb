{
 "cells": [
  {
   "cell_type": "code",
   "execution_count": 16,
   "metadata": {},
   "outputs": [],
   "source": [
    "import Turtle_trading\n",
    "import pandas as pd \n",
    "import numpy as np\n"
   ]
  },
  {
   "cell_type": "code",
   "execution_count": 52,
   "metadata": {},
   "outputs": [],
   "source": [
    "class Account_Handler:\n",
    "    NO_OF_STOCK_TYPE = 2\n",
    "    account_size = 100000\n",
    "\n",
    "    def __init__(self,risk_percentage):\n",
    "        # self.account_size = account_size\n",
    "        self.risk_percentage = risk_percentage/100\n",
    "        self.trading_amt_per_share = self.account_size/self.NO_OF_STOCK_TYPE\n",
    "        self.risk = self.trading_amt_per_share * self.risk_percentage\n",
    "\n",
    "    def ATR(self, filename, ticker):\n",
    "        ticker = ticker.upper()\n",
    "        xls = pd.ExcelFile(filename)\n",
    "        if ticker in xls.sheet_names:\n",
    "            df = pd.read_excel(filename, sheet_name=ticker)\n",
    "\n",
    "            # Ensure Date column is datetime and set as index\n",
    "            df['Date'] = pd.to_datetime(df['Date'])\n",
    "            df.set_index('Date', inplace=True)\n",
    "\n",
    "            last_row = df.iloc[-1]\n",
    "            try:\n",
    "                ATR = last_row['Avg_True_Range(N)']\n",
    "            except KeyError as msg:\n",
    "                return msg\n",
    "            \n",
    "            return ATR\n",
    "        else:\n",
    "            return f\"Ticker {ticker} not found in the Excel file.\"\n",
    "\n",
    "    def cal_positon_size(self,ATR):\n",
    "        \"\"\"Calculate unit for trading(No. of stock)\"\"\"\n",
    "        # ATR = Account_Handler.ATR(self, filename= filename,ticker= ticker)\n",
    "        position_size = self.risk // ATR\n",
    "        return int(position_size)   \n",
    "\n",
    "    def cal_entry_prize(self, filename, ticker):\n",
    "        \"\"\"We have to bring this from Actual Buying Prize. But for now we will consider it as previous days close.\"\"\"\n",
    "        ticker = ticker.upper()\n",
    "        xls = pd.ExcelFile(filename)\n",
    "        if ticker in xls.sheet_names:\n",
    "            df = pd.read_excel(filename, sheet_name=ticker)\n",
    "\n",
    "            # Ensure Date column is datetime and set as index\n",
    "            df['Date'] = pd.to_datetime(df['Date'])\n",
    "            df.set_index('Date', inplace=True)\n",
    "\n",
    "            last_row = df.iloc[-1]\n",
    "            try:\n",
    "                entry_prize = last_row['Close']\n",
    "            except KeyError as msg:\n",
    "                return msg\n",
    "            return entry_prize\n",
    "        else:\n",
    "            return f\"Ticker {ticker} not found in the Excel file.\"\n",
    "        \n",
    "    def stop_loss_entry(self, entry_prize, ATR):\n",
    "        self.stop_loss_prize = entry_prize - 2*ATR\n",
    "        return self.stop_loss_prize\n",
    "    \n",
    "    def first_pyr_sig_prize(self, entry_prize, ATR):\n",
    "        self.first_pyr_prize = entry_prize + 0.5*ATR\n",
    "        return self.first_pyr_prize\n",
    "    \n",
    "    def stop_loss_pyr_1(self, stop_loss_entry, ATR):\n",
    "        self.stop_loss_prize = stop_loss_entry + 0.5*ATR\n",
    "        return self.stop_loss_prize\n",
    "    \n",
    "    def second_pyr_sig_prize(self, entry_prize, ATR):\n",
    "        self.first_pyr_prize = entry_prize + ATR\n",
    "        return self.first_pyr_prize\n",
    "    \n",
    "    def stop_loss_pyr_2(self, stop_loss_entry, ATR):\n",
    "        self.stop_loss_prize = stop_loss_entry + ATR\n",
    "        return self.stop_loss_prize\n"
   ]
  },
  {
   "cell_type": "code",
   "execution_count": 53,
   "metadata": {},
   "outputs": [
    {
     "name": "stdout",
     "output_type": "stream",
     "text": [
      "49.11 10 1029.7 931.48\n",
      "1054.255 956.035 1078.81 980.59\n"
     ]
    }
   ],
   "source": [
    "filename = r\"C:\\Users\\DELL\\open_source\\Turtle_trading\\123.xlsx\"\n",
    "\n",
    "A1 = Account_Handler(risk_percentage=1)\n",
    "ATR = A1.ATR(filename= filename, ticker=\"MOTILALOFS\")\n",
    "unit = A1.cal_positon_size(ATR= ATR)\n",
    "entry_prize = A1.cal_entry_prize(filename= filename, ticker=\"MOTILALOFS\")\n",
    "stop_loss = A1.stop_loss_entry(entry_prize, ATR)\n",
    "first_pyr_entry_prize = A1.first_pyr_sig_prize(entry_prize, ATR)\n",
    "stop_loss_pyr_1 = A1.stop_loss_pyr_1(stop_loss,ATR)\n",
    "second_pyr_sig_prize = A1.second_pyr_sig_prize(entry_prize, ATR)\n",
    "stop_loss_pyr_2 = A1.stop_loss_pyr_2(stop_loss, ATR)\n",
    "\n",
    "print(ATR, unit, entry_prize, stop_loss,)\n",
    "print( first_pyr_entry_prize, stop_loss_pyr_1, second_pyr_sig_prize, stop_loss_pyr_2)"
   ]
  },
  {
   "cell_type": "code",
   "execution_count": null,
   "metadata": {},
   "outputs": [],
   "source": []
  }
 ],
 "metadata": {
  "kernelspec": {
   "display_name": "Python 3",
   "language": "python",
   "name": "python3"
  },
  "language_info": {
   "codemirror_mode": {
    "name": "ipython",
    "version": 3
   },
   "file_extension": ".py",
   "mimetype": "text/x-python",
   "name": "python",
   "nbconvert_exporter": "python",
   "pygments_lexer": "ipython3",
   "version": "3.12.2"
  }
 },
 "nbformat": 4,
 "nbformat_minor": 2
}
