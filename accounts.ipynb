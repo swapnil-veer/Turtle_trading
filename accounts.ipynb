{
 "cells": [
  {
   "cell_type": "code",
   "execution_count": 1,
   "metadata": {},
   "outputs": [],
   "source": [
    "import Turtle_trading\n",
    "import pandas as pd \n",
    "import numpy as np\n"
   ]
  },
  {
   "cell_type": "code",
   "execution_count": 2,
   "metadata": {},
   "outputs": [],
   "source": [
    "class Account_Handler:\n",
    "    \n",
    "    def __init__(self,account_size,risk_percentage):\n",
    "        self.account_size = account_size\n",
    "        self.risk_percentage = risk_percentage/100\n",
    "        self.risk = self.account_size * self.risk_percentage\n",
    "\n",
    "    def cal_positon_size(self,filename,ticker):\n",
    "        ticker = ticker.upper()\n",
    "        xls = pd.ExcelFile(filename)\n",
    "        if ticker in xls.sheet_names:\n",
    "            df = pd.read_excel(filename, sheet_name=ticker)\n",
    "\n",
    "            # Ensure Date column is datetime and set as index\n",
    "            df['Date'] = pd.to_datetime(df['Date'])\n",
    "            df.set_index('Date', inplace=True)\n",
    "\n",
    "            last_row = df.iloc[-1]\n",
    "            try:\n",
    "                ATR = last_row['Avg_True_Range']\n",
    "            except KeyError as msg:\n",
    "                return msg\n",
    "\n",
    "            position_size = self.risk // ATR\n",
    "            return int(position_size)\n",
    "        else:\n",
    "            return f\"Ticker {ticker} not found in the Excel file.\"\n"
   ]
  },
  {
   "cell_type": "code",
   "execution_count": 6,
   "metadata": {},
   "outputs": [
    {
     "data": {
      "text/plain": [
       "435"
      ]
     },
     "execution_count": 6,
     "metadata": {},
     "output_type": "execute_result"
    }
   ],
   "source": [
    "filename = r\"C:\\Users\\DELL\\open_source\\Turtle_trading\\default2.xlsx\"\n",
    "\n",
    "A1 = Account_Handler(account_size=100000, risk_percentage=1)\n",
    "A1.cal_positon_size(filename= filename, ticker=\"suzlon\")"
   ]
  },
  {
   "cell_type": "code",
   "execution_count": null,
   "metadata": {},
   "outputs": [],
   "source": []
  }
 ],
 "metadata": {
  "kernelspec": {
   "display_name": "Python 3",
   "language": "python",
   "name": "python3"
  },
  "language_info": {
   "codemirror_mode": {
    "name": "ipython",
    "version": 3
   },
   "file_extension": ".py",
   "mimetype": "text/x-python",
   "name": "python",
   "nbconvert_exporter": "python",
   "pygments_lexer": "ipython3",
   "version": "3.12.2"
  }
 },
 "nbformat": 4,
 "nbformat_minor": 2
}
